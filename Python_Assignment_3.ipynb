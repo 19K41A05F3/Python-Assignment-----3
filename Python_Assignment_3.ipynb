{
  "nbformat": 4,
  "nbformat_minor": 0,
  "metadata": {
    "colab": {
      "name": "Python Assignment 3",
      "provenance": [],
      "collapsed_sections": [],
      "authorship_tag": "ABX9TyPJ1p4qK3gWehVywgALKtS1",
      "include_colab_link": true
    },
    "kernelspec": {
      "name": "python3",
      "display_name": "Python 3"
    }
  },
  "cells": [
    {
      "cell_type": "markdown",
      "metadata": {
        "id": "view-in-github",
        "colab_type": "text"
      },
      "source": [
        "<a href=\"https://colab.research.google.com/github/19K41A05F3/Python-Assignment-----3/blob/master/Python_Assignment_3.ipynb\" target=\"_parent\"><img src=\"https://colab.research.google.com/assets/colab-badge.svg\" alt=\"Open In Colab\"/></a>"
      ]
    },
    {
      "cell_type": "code",
      "metadata": {
        "id": "mnNkAVnhl_xE",
        "colab_type": "code",
        "colab": {
          "base_uri": "https://localhost:8080/",
          "height": 86
        },
        "outputId": "a8723c6d-31f1-4177-c529-552af96e2a14"
      },
      "source": [
        "#Question-1\n",
        "a=float(input(\"Enter first side of triangle\"))\n",
        "b=float(input(\"Enter second side of triangle\"))\n",
        "c=float(input(\"Enter third side of triangle\"))  \n",
        "s = (a + b + c) / 2    \n",
        "area = (s*(s-a)*(s-b)*(s-c)) ** 0.5\n",
        "print(\"Area of triangle is \",area)"
      ],
      "execution_count": null,
      "outputs": [
        {
          "output_type": "stream",
          "text": [
            "Enter first side of triangle3\n",
            "Enter second side of triangle4\n",
            "Enter third side of triangle5\n",
            "Area of triangle is  6.0\n"
          ],
          "name": "stdout"
        }
      ]
    },
    {
      "cell_type": "code",
      "metadata": {
        "id": "-RvlDQcrveXh",
        "colab_type": "code",
        "colab": {
          "base_uri": "https://localhost:8080/",
          "height": 69
        },
        "outputId": "5ccfee2e-1548-4597-ef53-7972c1f9b437"
      },
      "source": [
        "#Question-2\n",
        "a=input(\"Enter any string\")\n",
        "b=a[::-1]\n",
        "if (a==b) :\n",
        "  print ( \"The given string is Palindrome\\n\",a)\n",
        "else :\n",
        "  print (\"The given string is not a Palindrome\")"
      ],
      "execution_count": null,
      "outputs": [
        {
          "output_type": "stream",
          "text": [
            "Enter any stringsujus\n",
            "The given string is Palindrome\n",
            " sujus\n"
          ],
          "name": "stdout"
        }
      ]
    },
    {
      "cell_type": "code",
      "metadata": {
        "id": "pEFv594I9fV4",
        "colab_type": "code",
        "colab": {
          "base_uri": "https://localhost:8080/",
          "height": 71
        },
        "outputId": "df186008-9404-450c-8781-2256bab49268"
      },
      "source": [
        "#Question-3\n",
        "y=int(input(\"Enter year\"))\n",
        "if y%4==0 :\n",
        "  print (\"The given year {} is a leap year\".format(y))\n",
        "else :\n",
        "  print (\"The given year {} is not a leap year\".format(y))"
      ],
      "execution_count": null,
      "outputs": [
        {
          "output_type": "stream",
          "text": [
            "Enter year3012\n",
            "The given year 3012 is a leap year\n"
          ],
          "name": "stdout"
        }
      ]
    },
    {
      "cell_type": "code",
      "metadata": {
        "id": "SK0xFZPI-VaS",
        "colab_type": "code",
        "colab": {
          "base_uri": "https://localhost:8080/",
          "height": 71
        },
        "outputId": "bb623059-854b-4493-c552-f65d988ca769"
      },
      "source": [
        "#Question-4\n",
        "s=input(\"Enter a string\")\n",
        "for i in range(0,len(s)) :\n",
        "   if s[i]==' ' :\n",
        "      s=s.replace(s[i],'-')\n",
        "print (s)"
      ],
      "execution_count": null,
      "outputs": [
        {
          "output_type": "stream",
          "text": [
            "Enter a stringThank you for your warm regards\n",
            "Thank-you-for-your-warm-regards\n"
          ],
          "name": "stdout"
        }
      ]
    },
    {
      "cell_type": "code",
      "metadata": {
        "id": "IuPo2D6mGjVS",
        "colab_type": "code",
        "colab": {
          "base_uri": "https://localhost:8080/",
          "height": 175
        },
        "outputId": "b91a4a00-e8ad-42af-8801-cabf5de564c5"
      },
      "source": [
        " #Question-5\n",
        "s=input(\"Enter the string \")\n",
        "i=s.split()\n",
        "i.sort()\n",
        "for a in i :\n",
        "  print(a)"
      ],
      "execution_count": null,
      "outputs": [
        {
          "output_type": "stream",
          "text": [
            "Enter the string January February March April May June July\n",
            "April\n",
            "February\n",
            "January\n",
            "July\n",
            "June\n",
            "March\n",
            "May\n"
          ],
          "name": "stdout"
        }
      ]
    },
    {
      "cell_type": "code",
      "metadata": {
        "id": "l3fu7zIntxil",
        "colab_type": "code",
        "colab": {
          "base_uri": "https://localhost:8080/",
          "height": 51
        },
        "outputId": "a3a32e47-8b59-428a-923b-0b44aee477e7"
      },
      "source": [
        "#Question-6\n",
        "s=int(input(\"Enter your salary\"))\n",
        "if s<=250000 :\n",
        "  print (\"No tax\")\n",
        "elif 250001<=s<=500000 :\n",
        "  print (\"Tax to be paid is \",(s*5)/100)\n",
        "elif 500001<=s<=750000 :\n",
        "  print (\"Tax to be paid is \",(s*10)/100)\n",
        "elif 750001<=s<=1000000 :\n",
        "  print (\"Tax to be paid is\",(s*15)/100)\n",
        "elif 1000001<=s<=1250000 :\n",
        "  print (\" Tax to be paid is\",(s*20)/100)\n",
        "elif 1250001<=s<=1500000 :\n",
        "  print (\"Tax to be paid is\",(s*25)/100)\n",
        "else :\n",
        "  print (\"Tax to be paid is \",(s*30)/100)"
      ],
      "execution_count": null,
      "outputs": [
        {
          "output_type": "stream",
          "text": [
            "Enter your salary4500000\n",
            "Tax to be paid is  1350000.0\n"
          ],
          "name": "stdout"
        }
      ]
    },
    {
      "cell_type": "code",
      "metadata": {
        "id": "GYKz34FD_I5q",
        "colab_type": "code",
        "colab": {
          "base_uri": "https://localhost:8080/",
          "height": 86
        },
        "outputId": "373dafe5-cbc0-4d9c-ea6b-2d4f1958f053"
      },
      "source": [
        "#Question-7\n",
        "n=(input(\"Enter first integer\"))\n",
        "m=(input(\"Enter second integer\"))\n",
        "o=(input(\"Enter third integer\"))\n",
        "print(n+m+o)"
      ],
      "execution_count": null,
      "outputs": [
        {
          "output_type": "stream",
          "text": [
            "Enter first integer6\n",
            "Enter second integer88\n",
            "Enter third integer99\n",
            "68899\n"
          ],
          "name": "stdout"
        }
      ]
    },
    {
      "cell_type": "code",
      "metadata": {
        "id": "7n6uFBJQYB3U",
        "colab_type": "code",
        "colab": {
          "base_uri": "https://localhost:8080/",
          "height": 103
        },
        "outputId": "370dad0c-b604-4661-9e72-0d0a7605b374"
      },
      "source": [
        "#Question-8\n",
        "d=int(input(\"Enter no.of days\"))\n",
        "h=int(input(\"Enter no.of hours\"))\n",
        "m=int(input(\"Enter no.of minutes\"))\n",
        "s=int(input(\"Enter no.of seconds\"))\n",
        "t=d*24*60*60+h*60*60+m*60+s\n",
        "print (\"The duration is \",t)"
      ],
      "execution_count": null,
      "outputs": [
        {
          "output_type": "stream",
          "text": [
            "Enter no.of days0\n",
            "Enter no.of hours1\n",
            "Enter no.of minutes1\n",
            "Enter no.of seconds1\n",
            "The duration is  3661\n"
          ],
          "name": "stdout"
        }
      ]
    },
    {
      "cell_type": "code",
      "metadata": {
        "id": "Ro9_UAwV3jA-",
        "colab_type": "code",
        "colab": {
          "base_uri": "https://localhost:8080/",
          "height": 86
        },
        "outputId": "7763c943-3677-4be2-f9d5-ec137f29718a"
      },
      "source": [
        "#Question-9\n",
        "n=int(input(\"Enter first integer\"))\n",
        "m=int(input(\"Enter second integer\"))\n",
        "o=int(input(\"Enter third integer\"))\n",
        "s=[n,m,o]\n",
        "j=s[0]+s[1]+s[2]-max(s)-min(s)\n",
        "print(max(s),j,min(s))"
      ],
      "execution_count": null,
      "outputs": [
        {
          "output_type": "stream",
          "text": [
            "Enter first integer4\n",
            "Enter second integer5\n",
            "Enter third integer6\n",
            "6 5 4\n"
          ],
          "name": "stdout"
        }
      ]
    },
    {
      "cell_type": "code",
      "metadata": {
        "id": "akN8Du0CNszN",
        "colab_type": "code",
        "colab": {
          "base_uri": "https://localhost:8080/",
          "height": 86
        },
        "outputId": "3295ddc1-872a-4797-e6bc-d3e976c9389f"
      },
      "source": [
        "#Question-10\n",
        "y=int(input(\"Enter year YYYY\"))\n",
        "m=int(input(\"Enter month MM\"))\n",
        "d=int(input(\"Enter date DD\"))\n",
        "0<m<13\n",
        "0<d<32\n",
        "if d==31 and m==12 :\n",
        "   print (\"YYYY-MM-DD : {}-01-01\".format(y+1))\n",
        "elif (d==31and (m==1 or 3 or 5 or 7 or 8 or 10)) :\n",
        "   print (\"YYYY-MM-DD : {}-{} 01\".format(y,m+1))\n",
        "elif ( d==30 and ( m==4 or 6 or 9 or 11)) :\n",
        "   print(\"YYYY-MM-DD : {}-{}-01\".format(y,m+1))\n",
        "elif ( d==28 and m==2 and y%4==0):\n",
        "   print (\"YYYY-MM-DD : {}-{}-29\".format(y,m))\n",
        "elif(d==28 and m==2):\n",
        "   print (\"YYYY-MM-DD : {}-03-01\".format(y))\n",
        "else : \n",
        "  print (\"YYYY-MM-DD : {}-{}-{}\".format(y,m,d+1))"
      ],
      "execution_count": null,
      "outputs": [
        {
          "output_type": "stream",
          "text": [
            "Enter year YYYY2020\n",
            "Enter month MM4\n",
            "Enter date DD15\n",
            "YYYY-MM-DD : 2020-4-16\n"
          ],
          "name": "stdout"
        }
      ]
    },
    {
      "cell_type": "code",
      "metadata": {
        "id": "EBKL71A7Km9f",
        "colab_type": "code",
        "colab": {
          "base_uri": "https://localhost:8080/",
          "height": 34
        },
        "outputId": "de323b8b-67ee-4790-9867-f062fc09e8c0"
      },
      "source": [
        " #Question-11\n",
        "def p(a,b,c,d,e,f,g,h) :\n",
        "  return a*b*c*d*e*f*g*h\n",
        "p(45,3,2,89,72,1,10,7)"
      ],
      "execution_count": null,
      "outputs": [
        {
          "output_type": "execute_result",
          "data": {
            "text/plain": [
              "121111200"
            ]
          },
          "metadata": {
            "tags": []
          },
          "execution_count": 30
        }
      ]
    },
    {
      "cell_type": "code",
      "metadata": {
        "id": "pJSPTOlkWsAI",
        "colab_type": "code",
        "colab": {
          "base_uri": "https://localhost:8080/",
          "height": 34
        },
        "outputId": "7b9f870a-7538-4fb8-b748-e1925e8861a8"
      },
      "source": [
        "\n",
        "#Question-12\n",
        " def p(a,b,c,d,e,f) :\n",
        "  return a+b,b+c,c+d,d+e,e+f\n",
        "p(5,6,8,34,89,1)"
      ],
      "execution_count": null,
      "outputs": [
        {
          "output_type": "execute_result",
          "data": {
            "text/plain": [
              "(11, 14, 42, 123, 90)"
            ]
          },
          "metadata": {
            "tags": []
          },
          "execution_count": 86
        }
      ]
    },
    {
      "cell_type": "code",
      "metadata": {
        "id": "FbC3fcQTXUqi",
        "colab_type": "code",
        "colab": {
          "base_uri": "https://localhost:8080/",
          "height": 34
        },
        "outputId": "642cf9aa-3978-4560-9175-00c5a3a75ac8"
      },
      "source": [
        " \n",
        "#Question-13\n",
        " def p(a,b,c,d,e,f) :\n",
        "  return a,a*b,a*b*c,a*b*c*d,a*b*c*d*e,a*b*c*d*e*f\n",
        "p(5,6,8,3,9,1)"
      ],
      "execution_count": null,
      "outputs": [
        {
          "output_type": "execute_result",
          "data": {
            "text/plain": [
              "(5, 30, 240, 720, 6480, 6480)"
            ]
          },
          "metadata": {
            "tags": []
          },
          "execution_count": 88
        }
      ]
    },
    {
      "cell_type": "code",
      "metadata": {
        "id": "tjOCilpJ8EUy",
        "colab_type": "code",
        "colab": {
          "base_uri": "https://localhost:8080/",
          "height": 51
        },
        "outputId": "c24e3408-8c8d-41fe-cdb6-a92812910831"
      },
      "source": [
        "#Question-14\n",
        "n=input(\"Enter a number \")\n",
        "c=str(n)\n",
        "l=[]\n",
        "for i in range(len(c)) :\n",
        "  l.append(int(c[i]))\n",
        "print (l)"
      ],
      "execution_count": null,
      "outputs": [
        {
          "output_type": "stream",
          "text": [
            "Enter a number 234567\n",
            "[2, 3, 4, 5, 6, 7]\n"
          ],
          "name": "stdout"
        }
      ]
    },
    {
      "cell_type": "code",
      "metadata": {
        "id": "CQAD22z1KHIC",
        "colab_type": "code",
        "colab": {
          "base_uri": "https://localhost:8080/",
          "height": 51
        },
        "outputId": "325031c8-ff9f-418a-f7ca-85a6406bee78"
      },
      "source": [
        "#Question-15\n",
        "q=input(\"Enter a palindrome \")\n",
        "list1=[]\n",
        "list2=[]\n",
        "index=0\n",
        "for i in range(0,len(q)-1):\n",
        "   for j in range(i+1,len(q)+1):\n",
        "       if j-i>1:\n",
        "          p=q[i:j]\n",
        "          if (p==p[::-1]):\n",
        "             list1.append(q[i:j])\n",
        "             list2.append(len(q[i:j]))\n",
        "maxi=max(list2)\n",
        "for i in list2:\n",
        "    if i==maxi:\n",
        "       print(list1[index])\n",
        "    else:\n",
        "       index=index+1"
      ],
      "execution_count": null,
      "outputs": [
        {
          "output_type": "stream",
          "text": [
            "Enter a palindrome malayalam\n",
            "malayalam\n"
          ],
          "name": "stdout"
        }
      ]
    },
    {
      "cell_type": "code",
      "metadata": {
        "id": "46HlsqIam4RS",
        "colab_type": "code",
        "colab": {
          "base_uri": "https://localhost:8080/",
          "height": 89
        },
        "outputId": "a9cebd19-1c48-4182-abdd-0a236876622a"
      },
      "source": [
        "#Question-16\n",
        "a=input(\"Enter a binary number of length 10\")\n",
        "b=input(\"Enter a binary number of length 5\")\n",
        "if b[:] in a[:] :\n",
        "  print(1)\n",
        "else :\n",
        "  print (0)"
      ],
      "execution_count": null,
      "outputs": [
        {
          "output_type": "stream",
          "text": [
            "Enter a binary number of length 101234567890\n",
            "Enter a binary number of length 590\n",
            "1\n"
          ],
          "name": "stdout"
        }
      ]
    }
  ]
}